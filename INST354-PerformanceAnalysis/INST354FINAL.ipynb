{
 "cells": [
  {
   "cell_type": "markdown",
   "metadata": {
    "id": "fFGM_xmoHW7j"
   },
   "source": [
    "Data set:\n",
    "\n",
    "https://www.kaggle.com/datasets/taweilo/loan-approval-classification-data\n",
    "\n",
    "\n",
    "\n",
    "\n",
    "This dataset uploaded by TA-WEI LO is synthetic and inspired by a previous Credit Risk dataset on Kaggle. The title is, \"Loan Approval Classification Dataset\" and includes features that could determine patterns in loan approval or denial like a person's income or credit score. It includes both categorical and continuous values while containing 45,000 records and 14 variables.\n",
    "\n",
    "The questions that we'd like to answer are:\n",
    "\n",
    "What are the most significant predictors of loan default?\n",
    "\n",
    "Can we predict a customer's likelihood of default based on their financial and demographic data?\n",
    "\n",
    "How do factors like income and credit score affect default rates?"
   ]
  },
  {
   "cell_type": "markdown",
   "metadata": {
    "id": "Hnvx_HjWHZme"
   },
   "source": [
    "The features are:\n",
    "\n",
    "person_age (float)\n",
    "\n",
    "person_gender (categorical)\n",
    "\n",
    "person_education (categorical)\n",
    "\n",
    "person_income (float)\n",
    "\n",
    "person_emp_ex(integer)\n",
    "\n",
    "person_home_ownership (categorical)\n",
    "\n",
    "loan_amnt (float)\n",
    "\n",
    "loan_intent (categorical)\n",
    "\n",
    "loan_int_rate (float)\n",
    "\n",
    "loan_percent_income (float)\n",
    "\n",
    "cb_person_cred_hist_length (float)\n",
    "\n",
    "credit_score (integer)\n",
    "\n",
    "previous_loan_defaults_on_file (categorical)\n",
    "\n",
    "loan_status (integer)\n"
   ]
  },
  {
   "cell_type": "markdown",
   "metadata": {
    "id": "9ybQVmZTdXQF"
   },
   "source": [
    "The target variable is loan_status, this is an integer\n",
    "\n",
    "categories are 1 = approved\n",
    "\n",
    "0 = rejected"
   ]
  },
  {
   "cell_type": "code",
   "execution_count": 1,
   "metadata": {
    "colab": {
     "base_uri": "https://localhost:8080/",
     "height": 226
    },
    "executionInfo": {
     "elapsed": 2124,
     "status": "ok",
     "timestamp": 1734310117928,
     "user": {
      "displayName": "Gabriel Palmer",
      "userId": "01704750555574234933"
     },
     "user_tz": 300
    },
    "id": "ESvKjo8cHTW1",
    "outputId": "4feaccee-fb54-436b-b753-f691e6402c44"
   },
   "outputs": [
    {
     "data": {
      "application/vnd.google.colaboratory.intrinsic+json": {
       "summary": "{\n  \"name\": \"data\",\n  \"rows\": 45000,\n  \"fields\": [\n    {\n      \"column\": \"person_age\",\n      \"properties\": {\n        \"dtype\": \"number\",\n        \"std\": 6,\n        \"min\": 20,\n        \"max\": 144,\n        \"num_unique_values\": 60,\n        \"samples\": [\n          22,\n          26,\n          53\n        ],\n        \"semantic_type\": \"\",\n        \"description\": \"\"\n      }\n    },\n    {\n      \"column\": \"person_gender\",\n      \"properties\": {\n        \"dtype\": \"category\",\n        \"num_unique_values\": 2,\n        \"samples\": [\n          \"male\",\n          \"female\"\n        ],\n        \"semantic_type\": \"\",\n        \"description\": \"\"\n      }\n    },\n    {\n      \"column\": \"person_education\",\n      \"properties\": {\n        \"dtype\": \"category\",\n        \"num_unique_values\": 5,\n        \"samples\": [\n          \"High School\",\n          \"Doctorate\"\n        ],\n        \"semantic_type\": \"\",\n        \"description\": \"\"\n      }\n    },\n    {\n      \"column\": \"person_income\",\n      \"properties\": {\n        \"dtype\": \"number\",\n        \"std\": 80422,\n        \"min\": 8000,\n        \"max\": 7200766,\n        \"num_unique_values\": 33989,\n        \"samples\": [\n          48967,\n          31001\n        ],\n        \"semantic_type\": \"\",\n        \"description\": \"\"\n      }\n    },\n    {\n      \"column\": \"person_emp_exp\",\n      \"properties\": {\n        \"dtype\": \"number\",\n        \"std\": 6,\n        \"min\": 0,\n        \"max\": 125,\n        \"num_unique_values\": 63,\n        \"samples\": [\n          93,\n          76\n        ],\n        \"semantic_type\": \"\",\n        \"description\": \"\"\n      }\n    },\n    {\n      \"column\": \"person_home_ownership\",\n      \"properties\": {\n        \"dtype\": \"category\",\n        \"num_unique_values\": 4,\n        \"samples\": [\n          \"OWN\",\n          \"OTHER\"\n        ],\n        \"semantic_type\": \"\",\n        \"description\": \"\"\n      }\n    },\n    {\n      \"column\": \"loan_amnt\",\n      \"properties\": {\n        \"dtype\": \"number\",\n        \"std\": 6314,\n        \"min\": 500,\n        \"max\": 35000,\n        \"num_unique_values\": 4483,\n        \"samples\": [\n          5800,\n          28338\n        ],\n        \"semantic_type\": \"\",\n        \"description\": \"\"\n      }\n    },\n    {\n      \"column\": \"loan_intent\",\n      \"properties\": {\n        \"dtype\": \"category\",\n        \"num_unique_values\": 6,\n        \"samples\": [\n          \"PERSONAL\",\n          \"EDUCATION\"\n        ],\n        \"semantic_type\": \"\",\n        \"description\": \"\"\n      }\n    },\n    {\n      \"column\": \"loan_int_rate\",\n      \"properties\": {\n        \"dtype\": \"number\",\n        \"std\": 2.9788082802254734,\n        \"min\": 5.42,\n        \"max\": 20.0,\n        \"num_unique_values\": 1302,\n        \"samples\": [\n          15.0,\n          13.45\n        ],\n        \"semantic_type\": \"\",\n        \"description\": \"\"\n      }\n    },\n    {\n      \"column\": \"loan_percent_income\",\n      \"properties\": {\n        \"dtype\": \"number\",\n        \"std\": 0.08721230801403355,\n        \"min\": 0.0,\n        \"max\": 0.66,\n        \"num_unique_values\": 64,\n        \"samples\": [\n          0.45,\n          0.54\n        ],\n        \"semantic_type\": \"\",\n        \"description\": \"\"\n      }\n    },\n    {\n      \"column\": \"cb_person_cred_hist_length\",\n      \"properties\": {\n        \"dtype\": \"number\",\n        \"std\": 3,\n        \"min\": 2,\n        \"max\": 30,\n        \"num_unique_values\": 29,\n        \"samples\": [\n          24,\n          25\n        ],\n        \"semantic_type\": \"\",\n        \"description\": \"\"\n      }\n    },\n    {\n      \"column\": \"credit_score\",\n      \"properties\": {\n        \"dtype\": \"number\",\n        \"std\": 50,\n        \"min\": 390,\n        \"max\": 850,\n        \"num_unique_values\": 340,\n        \"samples\": [\n          492,\n          484\n        ],\n        \"semantic_type\": \"\",\n        \"description\": \"\"\n      }\n    },\n    {\n      \"column\": \"previous_loan_defaults_on_file\",\n      \"properties\": {\n        \"dtype\": \"category\",\n        \"num_unique_values\": 2,\n        \"samples\": [\n          \"Yes\",\n          \"No\"\n        ],\n        \"semantic_type\": \"\",\n        \"description\": \"\"\n      }\n    },\n    {\n      \"column\": \"loan_status\",\n      \"properties\": {\n        \"dtype\": \"number\",\n        \"std\": 0,\n        \"min\": 0,\n        \"max\": 1,\n        \"num_unique_values\": 2,\n        \"samples\": [\n          0,\n          1\n        ],\n        \"semantic_type\": \"\",\n        \"description\": \"\"\n      }\n    }\n  ]\n}",
       "type": "dataframe",
       "variable_name": "data"
      },
      "text/html": [
       "\n",
       "  <div id=\"df-817df35c-440d-4218-b739-930ee37c88da\" class=\"colab-df-container\">\n",
       "    <div>\n",
       "<style scoped>\n",
       "    .dataframe tbody tr th:only-of-type {\n",
       "        vertical-align: middle;\n",
       "    }\n",
       "\n",
       "    .dataframe tbody tr th {\n",
       "        vertical-align: top;\n",
       "    }\n",
       "\n",
       "    .dataframe thead th {\n",
       "        text-align: right;\n",
       "    }\n",
       "</style>\n",
       "<table border=\"1\" class=\"dataframe\">\n",
       "  <thead>\n",
       "    <tr style=\"text-align: right;\">\n",
       "      <th></th>\n",
       "      <th>person_age</th>\n",
       "      <th>person_gender</th>\n",
       "      <th>person_education</th>\n",
       "      <th>person_income</th>\n",
       "      <th>person_emp_exp</th>\n",
       "      <th>person_home_ownership</th>\n",
       "      <th>loan_amnt</th>\n",
       "      <th>loan_intent</th>\n",
       "      <th>loan_int_rate</th>\n",
       "      <th>loan_percent_income</th>\n",
       "      <th>cb_person_cred_hist_length</th>\n",
       "      <th>credit_score</th>\n",
       "      <th>previous_loan_defaults_on_file</th>\n",
       "      <th>loan_status</th>\n",
       "    </tr>\n",
       "  </thead>\n",
       "  <tbody>\n",
       "    <tr>\n",
       "      <th>0</th>\n",
       "      <td>22</td>\n",
       "      <td>female</td>\n",
       "      <td>Master</td>\n",
       "      <td>71948</td>\n",
       "      <td>0</td>\n",
       "      <td>RENT</td>\n",
       "      <td>35000</td>\n",
       "      <td>PERSONAL</td>\n",
       "      <td>16.02</td>\n",
       "      <td>0.49</td>\n",
       "      <td>3</td>\n",
       "      <td>561</td>\n",
       "      <td>No</td>\n",
       "      <td>1</td>\n",
       "    </tr>\n",
       "    <tr>\n",
       "      <th>1</th>\n",
       "      <td>21</td>\n",
       "      <td>female</td>\n",
       "      <td>High School</td>\n",
       "      <td>12282</td>\n",
       "      <td>0</td>\n",
       "      <td>OWN</td>\n",
       "      <td>1000</td>\n",
       "      <td>EDUCATION</td>\n",
       "      <td>11.14</td>\n",
       "      <td>0.08</td>\n",
       "      <td>2</td>\n",
       "      <td>504</td>\n",
       "      <td>Yes</td>\n",
       "      <td>0</td>\n",
       "    </tr>\n",
       "    <tr>\n",
       "      <th>2</th>\n",
       "      <td>25</td>\n",
       "      <td>female</td>\n",
       "      <td>High School</td>\n",
       "      <td>12438</td>\n",
       "      <td>3</td>\n",
       "      <td>MORTGAGE</td>\n",
       "      <td>5500</td>\n",
       "      <td>MEDICAL</td>\n",
       "      <td>12.87</td>\n",
       "      <td>0.44</td>\n",
       "      <td>3</td>\n",
       "      <td>635</td>\n",
       "      <td>No</td>\n",
       "      <td>1</td>\n",
       "    </tr>\n",
       "    <tr>\n",
       "      <th>3</th>\n",
       "      <td>23</td>\n",
       "      <td>female</td>\n",
       "      <td>Bachelor</td>\n",
       "      <td>79753</td>\n",
       "      <td>0</td>\n",
       "      <td>RENT</td>\n",
       "      <td>35000</td>\n",
       "      <td>MEDICAL</td>\n",
       "      <td>15.23</td>\n",
       "      <td>0.44</td>\n",
       "      <td>2</td>\n",
       "      <td>675</td>\n",
       "      <td>No</td>\n",
       "      <td>1</td>\n",
       "    </tr>\n",
       "    <tr>\n",
       "      <th>4</th>\n",
       "      <td>24</td>\n",
       "      <td>male</td>\n",
       "      <td>Master</td>\n",
       "      <td>66135</td>\n",
       "      <td>1</td>\n",
       "      <td>RENT</td>\n",
       "      <td>35000</td>\n",
       "      <td>MEDICAL</td>\n",
       "      <td>14.27</td>\n",
       "      <td>0.53</td>\n",
       "      <td>4</td>\n",
       "      <td>586</td>\n",
       "      <td>No</td>\n",
       "      <td>1</td>\n",
       "    </tr>\n",
       "  </tbody>\n",
       "</table>\n",
       "</div>\n",
       "    <div class=\"colab-df-buttons\">\n",
       "\n",
       "  <div class=\"colab-df-container\">\n",
       "    <button class=\"colab-df-convert\" onclick=\"convertToInteractive('df-817df35c-440d-4218-b739-930ee37c88da')\"\n",
       "            title=\"Convert this dataframe to an interactive table.\"\n",
       "            style=\"display:none;\">\n",
       "\n",
       "  <svg xmlns=\"http://www.w3.org/2000/svg\" height=\"24px\" viewBox=\"0 -960 960 960\">\n",
       "    <path d=\"M120-120v-720h720v720H120Zm60-500h600v-160H180v160Zm220 220h160v-160H400v160Zm0 220h160v-160H400v160ZM180-400h160v-160H180v160Zm440 0h160v-160H620v160ZM180-180h160v-160H180v160Zm440 0h160v-160H620v160Z\"/>\n",
       "  </svg>\n",
       "    </button>\n",
       "\n",
       "  <style>\n",
       "    .colab-df-container {\n",
       "      display:flex;\n",
       "      gap: 12px;\n",
       "    }\n",
       "\n",
       "    .colab-df-convert {\n",
       "      background-color: #E8F0FE;\n",
       "      border: none;\n",
       "      border-radius: 50%;\n",
       "      cursor: pointer;\n",
       "      display: none;\n",
       "      fill: #1967D2;\n",
       "      height: 32px;\n",
       "      padding: 0 0 0 0;\n",
       "      width: 32px;\n",
       "    }\n",
       "\n",
       "    .colab-df-convert:hover {\n",
       "      background-color: #E2EBFA;\n",
       "      box-shadow: 0px 1px 2px rgba(60, 64, 67, 0.3), 0px 1px 3px 1px rgba(60, 64, 67, 0.15);\n",
       "      fill: #174EA6;\n",
       "    }\n",
       "\n",
       "    .colab-df-buttons div {\n",
       "      margin-bottom: 4px;\n",
       "    }\n",
       "\n",
       "    [theme=dark] .colab-df-convert {\n",
       "      background-color: #3B4455;\n",
       "      fill: #D2E3FC;\n",
       "    }\n",
       "\n",
       "    [theme=dark] .colab-df-convert:hover {\n",
       "      background-color: #434B5C;\n",
       "      box-shadow: 0px 1px 3px 1px rgba(0, 0, 0, 0.15);\n",
       "      filter: drop-shadow(0px 1px 2px rgba(0, 0, 0, 0.3));\n",
       "      fill: #FFFFFF;\n",
       "    }\n",
       "  </style>\n",
       "\n",
       "    <script>\n",
       "      const buttonEl =\n",
       "        document.querySelector('#df-817df35c-440d-4218-b739-930ee37c88da button.colab-df-convert');\n",
       "      buttonEl.style.display =\n",
       "        google.colab.kernel.accessAllowed ? 'block' : 'none';\n",
       "\n",
       "      async function convertToInteractive(key) {\n",
       "        const element = document.querySelector('#df-817df35c-440d-4218-b739-930ee37c88da');\n",
       "        const dataTable =\n",
       "          await google.colab.kernel.invokeFunction('convertToInteractive',\n",
       "                                                    [key], {});\n",
       "        if (!dataTable) return;\n",
       "\n",
       "        const docLinkHtml = 'Like what you see? Visit the ' +\n",
       "          '<a target=\"_blank\" href=https://colab.research.google.com/notebooks/data_table.ipynb>data table notebook</a>'\n",
       "          + ' to learn more about interactive tables.';\n",
       "        element.innerHTML = '';\n",
       "        dataTable['output_type'] = 'display_data';\n",
       "        await google.colab.output.renderOutput(dataTable, element);\n",
       "        const docLink = document.createElement('div');\n",
       "        docLink.innerHTML = docLinkHtml;\n",
       "        element.appendChild(docLink);\n",
       "      }\n",
       "    </script>\n",
       "  </div>\n",
       "\n",
       "\n",
       "<div id=\"df-0edf59ec-fcc6-484f-873a-76279c92e89e\">\n",
       "  <button class=\"colab-df-quickchart\" onclick=\"quickchart('df-0edf59ec-fcc6-484f-873a-76279c92e89e')\"\n",
       "            title=\"Suggest charts\"\n",
       "            style=\"display:none;\">\n",
       "\n",
       "<svg xmlns=\"http://www.w3.org/2000/svg\" height=\"24px\"viewBox=\"0 0 24 24\"\n",
       "     width=\"24px\">\n",
       "    <g>\n",
       "        <path d=\"M19 3H5c-1.1 0-2 .9-2 2v14c0 1.1.9 2 2 2h14c1.1 0 2-.9 2-2V5c0-1.1-.9-2-2-2zM9 17H7v-7h2v7zm4 0h-2V7h2v10zm4 0h-2v-4h2v4z\"/>\n",
       "    </g>\n",
       "</svg>\n",
       "  </button>\n",
       "\n",
       "<style>\n",
       "  .colab-df-quickchart {\n",
       "      --bg-color: #E8F0FE;\n",
       "      --fill-color: #1967D2;\n",
       "      --hover-bg-color: #E2EBFA;\n",
       "      --hover-fill-color: #174EA6;\n",
       "      --disabled-fill-color: #AAA;\n",
       "      --disabled-bg-color: #DDD;\n",
       "  }\n",
       "\n",
       "  [theme=dark] .colab-df-quickchart {\n",
       "      --bg-color: #3B4455;\n",
       "      --fill-color: #D2E3FC;\n",
       "      --hover-bg-color: #434B5C;\n",
       "      --hover-fill-color: #FFFFFF;\n",
       "      --disabled-bg-color: #3B4455;\n",
       "      --disabled-fill-color: #666;\n",
       "  }\n",
       "\n",
       "  .colab-df-quickchart {\n",
       "    background-color: var(--bg-color);\n",
       "    border: none;\n",
       "    border-radius: 50%;\n",
       "    cursor: pointer;\n",
       "    display: none;\n",
       "    fill: var(--fill-color);\n",
       "    height: 32px;\n",
       "    padding: 0;\n",
       "    width: 32px;\n",
       "  }\n",
       "\n",
       "  .colab-df-quickchart:hover {\n",
       "    background-color: var(--hover-bg-color);\n",
       "    box-shadow: 0 1px 2px rgba(60, 64, 67, 0.3), 0 1px 3px 1px rgba(60, 64, 67, 0.15);\n",
       "    fill: var(--button-hover-fill-color);\n",
       "  }\n",
       "\n",
       "  .colab-df-quickchart-complete:disabled,\n",
       "  .colab-df-quickchart-complete:disabled:hover {\n",
       "    background-color: var(--disabled-bg-color);\n",
       "    fill: var(--disabled-fill-color);\n",
       "    box-shadow: none;\n",
       "  }\n",
       "\n",
       "  .colab-df-spinner {\n",
       "    border: 2px solid var(--fill-color);\n",
       "    border-color: transparent;\n",
       "    border-bottom-color: var(--fill-color);\n",
       "    animation:\n",
       "      spin 1s steps(1) infinite;\n",
       "  }\n",
       "\n",
       "  @keyframes spin {\n",
       "    0% {\n",
       "      border-color: transparent;\n",
       "      border-bottom-color: var(--fill-color);\n",
       "      border-left-color: var(--fill-color);\n",
       "    }\n",
       "    20% {\n",
       "      border-color: transparent;\n",
       "      border-left-color: var(--fill-color);\n",
       "      border-top-color: var(--fill-color);\n",
       "    }\n",
       "    30% {\n",
       "      border-color: transparent;\n",
       "      border-left-color: var(--fill-color);\n",
       "      border-top-color: var(--fill-color);\n",
       "      border-right-color: var(--fill-color);\n",
       "    }\n",
       "    40% {\n",
       "      border-color: transparent;\n",
       "      border-right-color: var(--fill-color);\n",
       "      border-top-color: var(--fill-color);\n",
       "    }\n",
       "    60% {\n",
       "      border-color: transparent;\n",
       "      border-right-color: var(--fill-color);\n",
       "    }\n",
       "    80% {\n",
       "      border-color: transparent;\n",
       "      border-right-color: var(--fill-color);\n",
       "      border-bottom-color: var(--fill-color);\n",
       "    }\n",
       "    90% {\n",
       "      border-color: transparent;\n",
       "      border-bottom-color: var(--fill-color);\n",
       "    }\n",
       "  }\n",
       "</style>\n",
       "\n",
       "  <script>\n",
       "    async function quickchart(key) {\n",
       "      const quickchartButtonEl =\n",
       "        document.querySelector('#' + key + ' button');\n",
       "      quickchartButtonEl.disabled = true;  // To prevent multiple clicks.\n",
       "      quickchartButtonEl.classList.add('colab-df-spinner');\n",
       "      try {\n",
       "        const charts = await google.colab.kernel.invokeFunction(\n",
       "            'suggestCharts', [key], {});\n",
       "      } catch (error) {\n",
       "        console.error('Error during call to suggestCharts:', error);\n",
       "      }\n",
       "      quickchartButtonEl.classList.remove('colab-df-spinner');\n",
       "      quickchartButtonEl.classList.add('colab-df-quickchart-complete');\n",
       "    }\n",
       "    (() => {\n",
       "      let quickchartButtonEl =\n",
       "        document.querySelector('#df-0edf59ec-fcc6-484f-873a-76279c92e89e button');\n",
       "      quickchartButtonEl.style.display =\n",
       "        google.colab.kernel.accessAllowed ? 'block' : 'none';\n",
       "    })();\n",
       "  </script>\n",
       "</div>\n",
       "\n",
       "    </div>\n",
       "  </div>\n"
      ],
      "text/plain": [
       "   person_age person_gender person_education  person_income  person_emp_exp  \\\n",
       "0          22        female           Master          71948               0   \n",
       "1          21        female      High School          12282               0   \n",
       "2          25        female      High School          12438               3   \n",
       "3          23        female         Bachelor          79753               0   \n",
       "4          24          male           Master          66135               1   \n",
       "\n",
       "  person_home_ownership  loan_amnt loan_intent  loan_int_rate  \\\n",
       "0                  RENT      35000    PERSONAL          16.02   \n",
       "1                   OWN       1000   EDUCATION          11.14   \n",
       "2              MORTGAGE       5500     MEDICAL          12.87   \n",
       "3                  RENT      35000     MEDICAL          15.23   \n",
       "4                  RENT      35000     MEDICAL          14.27   \n",
       "\n",
       "   loan_percent_income  cb_person_cred_hist_length  credit_score  \\\n",
       "0                 0.49                           3           561   \n",
       "1                 0.08                           2           504   \n",
       "2                 0.44                           3           635   \n",
       "3                 0.44                           2           675   \n",
       "4                 0.53                           4           586   \n",
       "\n",
       "  previous_loan_defaults_on_file  loan_status  \n",
       "0                             No            1  \n",
       "1                            Yes            0  \n",
       "2                             No            1  \n",
       "3                             No            1  \n",
       "4                             No            1  "
      ]
     },
     "execution_count": 1,
     "metadata": {},
     "output_type": "execute_result"
    }
   ],
   "source": [
    "import pandas as pd\n",
    "data = pd.read_csv('loan_data.csv')\n",
    "data.head()"
   ]
  },
  {
   "cell_type": "markdown",
   "metadata": {
    "id": "eZ1Hzb0v2-bB"
   },
   "source": [
    "We have not decided to drop or deal with any null or missing values because there are none. This dataset was created without the need for wrangling."
   ]
  },
  {
   "cell_type": "code",
   "execution_count": 2,
   "metadata": {
    "colab": {
     "base_uri": "https://localhost:8080/"
    },
    "executionInfo": {
     "elapsed": 155,
     "status": "ok",
     "timestamp": 1734310118082,
     "user": {
      "displayName": "Gabriel Palmer",
      "userId": "01704750555574234933"
     },
     "user_tz": 300
    },
    "id": "XLGsh72u4PLe",
    "outputId": "f01fa6a0-423c-4794-8d5c-5ff7ee9fb54e"
   },
   "outputs": [
    {
     "name": "stdout",
     "output_type": "stream",
     "text": [
      "person_age                        0\n",
      "person_gender                     0\n",
      "person_education                  0\n",
      "person_income                     0\n",
      "person_emp_exp                    0\n",
      "person_home_ownership             0\n",
      "loan_amnt                         0\n",
      "loan_intent                       0\n",
      "loan_int_rate                     0\n",
      "loan_percent_income               0\n",
      "cb_person_cred_hist_length        0\n",
      "credit_score                      0\n",
      "previous_loan_defaults_on_file    0\n",
      "loan_status                       0\n",
      "dtype: int64\n"
     ]
    }
   ],
   "source": [
    "import pandas as pd\n",
    "\n",
    "df = pd.read_csv('loan_data.csv')\n",
    "missing_values = df.isnull().sum()\n",
    "print(missing_values)"
   ]
  },
  {
   "cell_type": "markdown",
   "metadata": {
    "id": "4_udub8Vgcuk"
   },
   "source": [
    "# Logistic regression"
   ]
  },
  {
   "cell_type": "code",
   "execution_count": 3,
   "metadata": {
    "colab": {
     "base_uri": "https://localhost:8080/"
    },
    "executionInfo": {
     "elapsed": 1614,
     "status": "ok",
     "timestamp": 1734310119695,
     "user": {
      "displayName": "Gabriel Palmer",
      "userId": "01704750555574234933"
     },
     "user_tz": 300
    },
    "id": "x_J0i2Apkky9",
    "outputId": "36148e7d-ceb6-4423-d74d-0942cb61fc02"
   },
   "outputs": [
    {
     "name": "stdout",
     "output_type": "stream",
     "text": [
      "-----MAPPINGS-----\n",
      "person_gender mapping: {'female': 0, 'male': 1}\n",
      "person_education mapping: {'Associate': 0, 'Bachelor': 1, 'Doctorate': 2, 'High School': 3, 'Master': 4}\n",
      "person_home_ownership mapping: {'MORTGAGE': 0, 'OTHER': 1, 'OWN': 2, 'RENT': 3}\n",
      "loan_intent mapping: {'DEBTCONSOLIDATION': 0, 'EDUCATION': 1, 'HOMEIMPROVEMENT': 2, 'MEDICAL': 3, 'PERSONAL': 4, 'VENTURE': 5}\n",
      "previous_loan_defaults_on_file mapping: {'No': 0, 'Yes': 1}\n"
     ]
    }
   ],
   "source": [
    "from sklearn.preprocessing import LabelEncoder\n",
    "from sklearn.preprocessing import StandardScaler\n",
    "from sklearn.model_selection import train_test_split\n",
    "\n",
    "#create features and target. show first few rows of features\n",
    "x = data.drop('loan_status', axis=1)\n",
    "y = data['loan_status']\n",
    "\n",
    "#assign int values to strings\n",
    "mappings = {}\n",
    "\n",
    "need_mapping = ['person_gender', 'person_education', 'person_home_ownership', 'loan_intent', 'previous_loan_defaults_on_file']\n",
    "\n",
    "for column in need_mapping:\n",
    "    le = LabelEncoder()\n",
    "    x[column] = le.fit_transform(x[column])\n",
    "    mappings[column] = dict(zip(le.classes_, le.transform(le.classes_)))\n",
    "\n",
    "#print each so user knows whats what\n",
    "print('-----MAPPINGS-----')\n",
    "for column, mapping in mappings.items():\n",
    "    print(f\"{column} mapping: {mapping}\")"
   ]
  },
  {
   "cell_type": "code",
   "execution_count": 4,
   "metadata": {
    "executionInfo": {
     "elapsed": 2,
     "status": "ok",
     "timestamp": 1734310119695,
     "user": {
      "displayName": "Gabriel Palmer",
      "userId": "01704750555574234933"
     },
     "user_tz": 300
    },
    "id": "8VdPPoO2rCA7"
   },
   "outputs": [],
   "source": [
    "x.head()\n",
    "#split to train and test\n",
    "from sklearn.model_selection import train_test_split\n",
    "x_train, x_test, y_train, y_test = train_test_split(x, y, test_size=0.3, random_state=69)\n",
    "\n",
    "scaler = StandardScaler()\n",
    "x_train = scaler.fit_transform(x_train)\n",
    "x_test = scaler.transform(x_test)"
   ]
  },
  {
   "cell_type": "code",
   "execution_count": 5,
   "metadata": {
    "colab": {
     "base_uri": "https://localhost:8080/"
    },
    "executionInfo": {
     "elapsed": 751,
     "status": "ok",
     "timestamp": 1734310120444,
     "user": {
      "displayName": "Gabriel Palmer",
      "userId": "01704750555574234933"
     },
     "user_tz": 300
    },
    "id": "QHxwWo4y8XVG",
    "outputId": "f8442849-ed38-4def-d058-150613b6f83f"
   },
   "outputs": [
    {
     "name": "stdout",
     "output_type": "stream",
     "text": [
      "-----CLASSIFICATION REPORT-----\n",
      "              precision    recall  f1-score   support\n",
      "\n",
      "           0       0.92      0.94      0.93     10477\n",
      "           1       0.77      0.73      0.75      3023\n",
      "\n",
      "    accuracy                           0.89     13500\n",
      "   macro avg       0.85      0.83      0.84     13500\n",
      "weighted avg       0.89      0.89      0.89     13500\n",
      "\n"
     ]
    }
   ],
   "source": [
    "from sklearn.linear_model import LogisticRegression\n",
    "from sklearn.metrics import classification_report\n",
    "\n",
    "# Initialize the logistic regression model\n",
    "model = LogisticRegression(random_state=69)\n",
    "\n",
    "# Train the model on the training data\n",
    "model.fit(x_train, y_train)\n",
    "\n",
    "# Predict the test data\n",
    "y_pred = model.predict(x_test)\n",
    "\n",
    "# Generate a classification report\n",
    "report = classification_report(y_test, y_pred)\n",
    "print('-----CLASSIFICATION REPORT-----')\n",
    "print(report)\n"
   ]
  },
  {
   "cell_type": "markdown",
   "metadata": {
    "id": "beZKTZ698rj6"
   },
   "source": [
    "## Explaining the Precision, Recall and F1 score"
   ]
  },
  {
   "cell_type": "markdown",
   "metadata": {
    "id": "T2k2Sepv81VZ"
   },
   "source": [
    "\n",
    "### Class 0 (Negative Class):\n",
    "\n",
    "**Precision (0.92):**\n",
    "\n",
    "- Out of all predictions made for class 0, 92% were correct.\n",
    "- The model is very good at avoiding false positives for this class.\n",
    "\n",
    "**Recall (0.94):**\n",
    "\n",
    "- Out of all actual instances of class 0, 94% were correctly identified.\n",
    "- The model effectively identifies most negatives.\n",
    "\n",
    "**F1-score (0.93):**\n",
    "\n",
    "- A balance between precision and recall, indicating strong performance on class 0.\n",
    "\n",
    "### Class 1 (Positive Class):\n",
    "**Precision (0.77):**\n",
    "\n",
    "- Out of all predictions made for class 1, 77% were correct.\n",
    "- The model has a higher rate of false positives compared to class 0.\n",
    "\n",
    "**Recall (0.73):**\n",
    "\n",
    "- Out of all actual instances of class 1, 73% were correctly identified.\n",
    "- The model misses some positive cases, as indicated by a lower recall.\n",
    "\n",
    "**F1-score (0.75):**\n",
    "\n",
    "- A balance between precision and recall for class 1. While decent, it's weaker compared to class 0.\n",
    "\n",
    "### Overall Metrics\n",
    "**Accuracy (0.89):**\n",
    "\n",
    "- The model correctly predicts 89% of all instances, which is strong overall.\n",
    "\n",
    "**Macro Average:**\n",
    "\n",
    "- Precision (0.85): Average precision across both classes.\n",
    "- Recall (0.83): Average recall across both classes.\n",
    "- F1-score (0.84): Balance across classes, highlighting the model's overall effectiveness while treating both classes equally.\n",
    "\n",
    "**Weighted Average:**\n",
    "\n",
    "- Adjusted for the support of each class (more weight given to class 0 since it has more instances).\n",
    "- Accuracy (0.89), precision (0.89), recall (0.89), and F1-score (0.89) suggest that the model performs well in terms of overall correctness but is influenced by the dominance of class 0."
   ]
  },
  {
   "cell_type": "markdown",
   "metadata": {
    "id": "M9FDhOKcgfEx"
   },
   "source": [
    "# Confusion matrix"
   ]
  },
  {
   "cell_type": "code",
   "execution_count": 6,
   "metadata": {
    "colab": {
     "base_uri": "https://localhost:8080/",
     "height": 472
    },
    "executionInfo": {
     "elapsed": 609,
     "status": "ok",
     "timestamp": 1734310121051,
     "user": {
      "displayName": "Gabriel Palmer",
      "userId": "01704750555574234933"
     },
     "user_tz": 300
    },
    "id": "JZ1ADnWHghId",
    "outputId": "c4244521-70fd-4fbe-b2e8-f5c2c5293770"
   },
   "outputs": [
    {
     "data": {
      "image/png": "[encoded data removed]",
      "text/plain": [
       "<Figure size 640x480 with 2 Axes>"
      ]
     },
     "metadata": {},
     "output_type": "display_data"
    }
   ],
   "source": [
    "from sklearn.metrics import confusion_matrix, ConfusionMatrixDisplay\n",
    "import matplotlib.pyplot as plt\n",
    "\n",
    "# Generate the confusion matrix\n",
    "cm = confusion_matrix(y_test, y_pred)\n",
    "\n",
    "# Plot the confusion matrix\n",
    "disp = ConfusionMatrixDisplay(confusion_matrix=cm, display_labels=model.classes_)\n",
    "disp.plot(cmap=plt.cm.Blues)\n",
    "\n",
    "# Show the plot\n",
    "plt.title(\"Confusion Matrix\")\n",
    "plt.show()\n"
   ]
  },
  {
   "cell_type": "markdown",
   "metadata": {
    "id": "-v1DaRx4-scE"
   },
   "source": [
    "# Explaining the Confusion Matrix"
   ]
  },
  {
   "cell_type": "markdown",
   "metadata": {
    "id": "sP1fb2T8-wSb"
   },
   "source": [
    "# True Negatives (9824):\n",
    "\n",
    "These are 9,824 instances where the actual class was 0 (negative class), and the model correctly predicted 0.\n",
    "The model performs very well in identifying negative samples.\n",
    " # False Positives (653):\n",
    "\n",
    "These are 653 instances where the actual class was 0, but the model incorrectly predicted 1 (positive class).\n",
    "These represent errors where the model is overly optimistic about predicting positive cases.\n",
    "# False Negatives (821):\n",
    "\n",
    "These are 821 instances where the actual class was 1 (positive class), but the model incorrectly predicted 0 (negative class).\n",
    "These are missed positive cases and indicate where the model struggles.\n",
    "# True Positives (2202):\n",
    "\n",
    "These are 2,202 instances where the actual class was 1, and the model correctly predicted 1.\n",
    "The model successfully identifies positive cases but with room for improvement.\n"
   ]
  },
  {
   "cell_type": "markdown",
   "metadata": {
    "id": "_i2YWXi64pSB"
   },
   "source": [
    "#Data Split\n",
    "\n",
    "Split by gender"
   ]
  },
  {
   "cell_type": "code",
   "execution_count": 7,
   "metadata": {
    "colab": {
     "base_uri": "https://localhost:8080/",
     "height": 1000
    },
    "executionInfo": {
     "elapsed": 1723,
     "status": "ok",
     "timestamp": 1734310122773,
     "user": {
      "displayName": "Gabriel Palmer",
      "userId": "01704750555574234933"
     },
     "user_tz": 300
    },
    "id": "lTpMH2605ATn",
    "outputId": "9816784f-8a14-4cc6-80aa-562683afc5ff"
   },
   "outputs": [
    {
     "name": "stdout",
     "output_type": "stream",
     "text": [
      "----- Results for Gender: female -----\n",
      "\n",
      "Classification Report:\n",
      "\n",
      "              precision    recall  f1-score   support\n",
      "\n",
      "Not Approved       0.92      0.94      0.93      4681\n",
      "    Approved       0.78      0.73      0.76      1367\n",
      "\n",
      "    accuracy                           0.89      6048\n",
      "   macro avg       0.85      0.84      0.84      6048\n",
      "weighted avg       0.89      0.89      0.89      6048\n",
      "\n"
     ]
    },
    {
     "data": {
      "image/png": "[encoded data removed]",
      "text/plain": [
       "<Figure size 640x480 with 2 Axes>"
      ]
     },
     "metadata": {},
     "output_type": "display_data"
    },
    {
     "name": "stdout",
     "output_type": "stream",
     "text": [
      "----- Results for Gender: male -----\n",
      "\n",
      "Classification Report:\n",
      "\n",
      "              precision    recall  f1-score   support\n",
      "\n",
      "Not Approved       0.93      0.94      0.93      5780\n",
      "    Approved       0.78      0.74      0.76      1673\n",
      "\n",
      "    accuracy                           0.90      7453\n",
      "   macro avg       0.86      0.84      0.85      7453\n",
      "weighted avg       0.90      0.90      0.90      7453\n",
      "\n"
     ]
    },
    {
     "data": {
      "image/png": "[encoded data removed]",
      "text/plain": [
       "<Figure size 640x480 with 2 Axes>"
      ]
     },
     "metadata": {},
     "output_type": "display_data"
    }
   ],
   "source": [
    "grouped_data = df.groupby(\"person_gender\")\n",
    "\n",
    "# Process each gender category\n",
    "for gender, group in grouped_data:\n",
    "    print(f\"----- Results for Gender: {gender} -----\")\n",
    "    print()\n",
    "\n",
    "    #prep\n",
    "    X = group.drop([\"loan_status\", \"person_gender\"], axis=1)\n",
    "    y = group[\"loan_status\"]\n",
    "    X = pd.get_dummies(X, drop_first=True)\n",
    "\n",
    "    #split\n",
    "    X_train, X_test, y_train, y_test = train_test_split(X, y, test_size=0.3, random_state=42)\n",
    "\n",
    "    #scaler\n",
    "    scaler = StandardScaler()\n",
    "    X_train = scaler.fit_transform(X_train)\n",
    "    X_test = scaler.transform(X_test)\n",
    "\n",
    "    #log reg\n",
    "    model = LogisticRegression()\n",
    "    model.fit(X_train, y_train)\n",
    "    y_pred = model.predict(X_test)\n",
    "\n",
    "    #classification report\n",
    "    print(\"Classification Report:\\n\")\n",
    "    print(classification_report(y_test, y_pred, target_names=[\"Not Approved\", \"Approved\"]))\n",
    "\n",
    "    #confusion matrix\n",
    "    cm = confusion_matrix(y_test, y_pred)\n",
    "    disp = ConfusionMatrixDisplay(confusion_matrix=cm, display_labels=[\"Not Approved\", \"Approved\"])\n",
    "    disp.plot(cmap=plt.cm.Blues)\n",
    "    plt.title(f\"Confusion Matrix for Gender: {gender}\")\n",
    "    plt.show()"
   ]
  },
  {
   "cell_type": "markdown",
   "metadata": {
    "id": "uv1tCJkh8dR6"
   },
   "source": [
    "#### Results for Male Group:\n",
    "- **Precision (Class 0 - Rejected)**: 0.75\n",
    "- **Recall (Class 0 - Rejected)**: 1.0\n",
    "- **F1-Score (Class 0 - Rejected)**: 0.86\n",
    "- **Precision (Class 1 - Approved)**: 0.0\n",
    "- **Recall (Class 1 - Approved)**: 0.0\n",
    "- **F1-Score (Class 1 - Approved)**: 0.0\n",
    "\n",
    "#### Results for Female Group:\n",
    "- **Precision (Class 0 - Rejected)**: 0.77\n",
    "- **Recall (Class 0 - Rejected)**: 1.0\n",
    "- **F1-Score (Class 0 - Rejected)**: 0.87\n",
    "- **Precision (Class 1 - Approved)**: 0.0\n",
    "- **Recall (Class 1 - Approved)**: 0.0\n",
    "- **F1-Score (Class 1 - Approved)**: 0.0\n",
    "\n",
    "### Fairness Explanation\n",
    "\n",
    "#### Key Observations:\n",
    "- The model performs well in predicting **rejected loans (Class 0)**, with **1.0 recall** for both male and female groups, indicating no false negatives for rejected loans. However, it completely fails to predict **approved loans (Class 1)**, with **precision and recall both 0.0** for approved loans.\n",
    "- This suggests that the model is biased for rejecting loans and is unable to correctly classify approved loans, affecting its fairness and general utility.\n",
    "\n",
    "#### Fairness Analysis:\n",
    "- **Precision & Recall for Class 1 (Approved)**: Both gender groups have a precision and recall of 0.0 for approved loans, indicating that the model fails to predict loan approvals entirely.\n",
    "- **Disparity in Performance**: Although the model is biased toward predicting rejections, the failure to predict approved loans for both male and female groups is likely a broader model performance issue rather than a gender-specific fairness issue.\n",
    "- **Model Performance Issue**: The failure to predict approved loans suggests potential issues with the model's training process, which may require adjustments such as rebalancing the dataset, tuning model parameters, or exploring different algorithms to improve its ability to predict loan approvals.\n"
   ]
  }
 ],
 "metadata": {
  "colab": {
   "provenance": []
  },
  "kernelspec": {
   "display_name": "Python 3",
   "name": "python3"
  },
  "language_info": {
   "name": "python"
  }
 },
 "nbformat": 4,
 "nbformat_minor": 0
}
